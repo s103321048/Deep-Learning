{
 "cells": [
  {
   "cell_type": "code",
   "execution_count": 1,
   "metadata": {},
   "outputs": [],
   "source": [
    "%matplotlib inline\n",
    "import matplotlib.pyplot as plt\n",
    "import numpy as np\n",
    "import tensorflow as tf"
   ]
  },
  {
   "cell_type": "markdown",
   "metadata": {},
   "source": [
    "# Session"
   ]
  },
  {
   "cell_type": "markdown",
   "metadata": {},
   "source": [
    "### Global Variable"
   ]
  },
  {
   "cell_type": "code",
   "execution_count": 2,
   "metadata": {},
   "outputs": [
    {
     "name": "stdout",
     "output_type": "stream",
     "text": [
      "Tensor(\"a:0\", shape=(), dtype=int32)\n",
      "<tf.Variable 'b:0' shape=() dtype=int32_ref>\n",
      "0\n",
      "1\n"
     ]
    }
   ],
   "source": [
    "a = tf.constant(0, name = 'a')\n",
    "print(a)\n",
    "b = tf.Variable(a + 1, name = 'b')\n",
    "print(b)\n",
    "with tf.Session() as sess:\n",
    "    init = tf.global_variables_initializer()\n",
    "    sess.run(init)\n",
    "    print(sess.run(a))\n",
    "    print(sess.run(b))"
   ]
  },
  {
   "cell_type": "code",
   "execution_count": 3,
   "metadata": {},
   "outputs": [
    {
     "name": "stdout",
     "output_type": "stream",
     "text": [
      "Tensor(\"random_normal:0\", shape=(3, 2), dtype=float32)\n",
      "[[ 0.44352907  1.2584665 ]\n",
      " [-0.0290731  -0.82386297]\n",
      " [ 0.6873072  -2.022242  ]]\n"
     ]
    }
   ],
   "source": [
    "a = tf.random_normal([3, 2])\n",
    "print(a)\n",
    "with tf.Session() as sess:\n",
    "    init = tf.global_variables_initializer()\n",
    "    sess.run(init)\n",
    "    print(sess.run(a))"
   ]
  },
  {
   "cell_type": "markdown",
   "metadata": {},
   "source": [
    "### Placeholder"
   ]
  },
  {
   "cell_type": "code",
   "execution_count": 4,
   "metadata": {},
   "outputs": [
    {
     "name": "stdout",
     "output_type": "stream",
     "text": [
      "Tensor(\"Placeholder:0\", dtype=int32)\n",
      "Tensor(\"Placeholder_1:0\", dtype=int32)\n",
      "Tensor(\"Mul:0\", dtype=int32)\n",
      "48\n"
     ]
    }
   ],
   "source": [
    "width = tf.placeholder('int32')\n",
    "print(width)\n",
    "height = tf.placeholder('int32')\n",
    "print(height)\n",
    "area = tf.multiply(width, height)\n",
    "print(area)\n",
    "with tf.Session() as sess:\n",
    "    init = tf.global_variables_initializer()\n",
    "    sess.run(init)\n",
    "    print(sess.run(area, feed_dict = {width: 6, height: 8}))"
   ]
  },
  {
   "cell_type": "markdown",
   "metadata": {},
   "source": [
    "# TensorBoard"
   ]
  },
  {
   "cell_type": "code",
   "execution_count": 5,
   "metadata": {},
   "outputs": [],
   "source": [
    "width = tf.placeholder('int32', name = 'width')\n",
    "height = tf.placeholder('int32', name = 'height')\n",
    "area = tf.multiply(width, height)\n",
    "with tf.Session() as sess:\n",
    "    init = tf.global_variables_initializer()\n",
    "    sess.run(init)\n",
    "    sess.run(area, feed_dict = {width: 6, height: 8})\n",
    "    tf.summary.merge_all()\n",
    "    train_writer = tf.summary.FileWriter('log/area', sess.graph)"
   ]
  },
  {
   "cell_type": "markdown",
   "metadata": {},
   "source": [
    "tensorboard --logdir=~/Users/DannyShau/code/deep_learning/note/tensorflow/log/area\n",
    "\n",
    "http://localhost:6006/"
   ]
  },
  {
   "cell_type": "markdown",
   "metadata": {},
   "source": [
    "# Neural Network"
   ]
  },
  {
   "cell_type": "markdown",
   "metadata": {},
   "source": [
    "### Relu"
   ]
  },
  {
   "cell_type": "code",
   "execution_count": 6,
   "metadata": {},
   "outputs": [
    {
     "name": "stdout",
     "output_type": "stream",
     "text": [
      "Tensor(\"add_1:0\", shape=(1, 2), dtype=float64)\n",
      "[[0.73253882 1.66208391]]\n",
      "Tensor(\"Relu:0\", shape=(1, 2), dtype=float64)\n",
      "[[0.73253882 1.66208391]]\n"
     ]
    }
   ],
   "source": [
    "X = tf.Variable(np.random.randn(1, 3))\n",
    "W = tf.Variable(np.random.randn(3, 2))\n",
    "b = tf.Variable(np.random.randn(1, 2))\n",
    "XWb = tf.matmul(X, W) + b\n",
    "y = tf.nn.relu(XWb)\n",
    "with tf.Session() as sess:\n",
    "    init = tf.global_variables_initializer()\n",
    "    sess.run(init)\n",
    "    print(XWb)\n",
    "    print(sess.run(XWb))\n",
    "    print(y)\n",
    "    print(sess.run(y))"
   ]
  },
  {
   "cell_type": "markdown",
   "metadata": {},
   "source": [
    "### Sigmoid"
   ]
  },
  {
   "cell_type": "code",
   "execution_count": 7,
   "metadata": {},
   "outputs": [
    {
     "name": "stdout",
     "output_type": "stream",
     "text": [
      "Tensor(\"add_2:0\", shape=(1, 2), dtype=float64)\n",
      "[[-4.88036121 -2.67989903]]\n",
      "Tensor(\"Sigmoid:0\", shape=(1, 2), dtype=float64)\n",
      "[[0.00753703 0.06416994]]\n"
     ]
    }
   ],
   "source": [
    "X = tf.Variable(np.random.randn(1, 3))\n",
    "W = tf.Variable(np.random.randn(3, 2))\n",
    "b = tf.Variable(np.random.randn(1, 2))\n",
    "XWb = tf.matmul(X, W) + b\n",
    "y = tf.nn.sigmoid(XWb)\n",
    "with tf.Session() as sess:\n",
    "    init = tf.global_variables_initializer()\n",
    "    sess.run(init)\n",
    "    print(XWb)\n",
    "    print(sess.run(XWb))\n",
    "    print(y)\n",
    "    print(sess.run(y))"
   ]
  },
  {
   "cell_type": "markdown",
   "metadata": {},
   "source": [
    "### Placeholder"
   ]
  },
  {
   "cell_type": "code",
   "execution_count": 8,
   "metadata": {},
   "outputs": [
    {
     "name": "stdout",
     "output_type": "stream",
     "text": [
      "b\n",
      "[[-0.71838063  0.23517083]\n",
      " [ 0.32881635 -0.5544973 ]\n",
      " [-1.1481     -1.0975091 ]]\n",
      "W\n",
      "[[-0.43979332 -0.23499514]\n",
      " [-1.036035   -1.2094529 ]\n",
      " [-3.2063782  -0.85414845]]\n",
      "X\n",
      "[[-1.4305768  0.691291   1.0245645]]\n",
      "y\n",
      "[[0. 0.]\n",
      " [0. 0.]\n",
      " [0. 0.]]\n"
     ]
    }
   ],
   "source": [
    "W = tf.Variable(tf.random_normal([3, 2]))\n",
    "b = tf.Variable(tf.random_normal([3, 2]))\n",
    "X = tf.placeholder('float', [None, 3])\n",
    "y = tf.nn.relu(tf.matmul(X, W) + b)\n",
    "with tf.Session() as sess:\n",
    "    init = tf.global_variables_initializer()\n",
    "    sess.run(init)\n",
    "    X_array = np.random.randn(1, 3)\n",
    "    (b, W, X, y) = sess.run((b, W, X, y), feed_dict = {X: X_array})\n",
    "    print('b')\n",
    "    print(b)\n",
    "    print('W')\n",
    "    print(W)\n",
    "    print('X')\n",
    "    print(X)\n",
    "    print('y')\n",
    "    print(y)"
   ]
  },
  {
   "cell_type": "markdown",
   "metadata": {},
   "source": [
    "### Layer"
   ]
  },
  {
   "cell_type": "code",
   "execution_count": 9,
   "metadata": {},
   "outputs": [
    {
     "name": "stdout",
     "output_type": "stream",
     "text": [
      "X_array\n",
      "[[ 0.12529005 -0.08500601 -0.10970669  0.31407366]]\n",
      "layer_h\n",
      "[[0.46551836 0.02649137 0.        ]]\n",
      "layer_y\n",
      "[[ 0.40099192 -1.8208671 ]]\n"
     ]
    }
   ],
   "source": [
    "def layer(output_dim, input_dim, inputs, activation = None):\n",
    "    W = tf.Variable(tf.random_normal([input_dim, output_dim]))\n",
    "    b = tf.Variable(tf.random_normal([1, output_dim]))    \n",
    "    XWb = tf.matmul(inputs, W) + b\n",
    "    if activation is None:\n",
    "        outputs = XWb\n",
    "    else:\n",
    "        outputs = activation(XWb)\n",
    "    return outputs\n",
    "\n",
    "X = tf.placeholder('float', [None, 4])\n",
    "h = layer(output_dim = 3, input_dim = 4, inputs = X, activation = tf.nn.relu)\n",
    "y = layer(output_dim = 2, input_dim = 3, inputs = h)\n",
    "with tf.Session() as sess:\n",
    "    init = tf.global_variables_initializer()\n",
    "    sess.run(init)\n",
    "    X_array = np.random.randn(1, 4)\n",
    "    (layer_X, layer_h, layer_y) = sess.run((X, h, y), feed_dict = {X: X_array})\n",
    "    print('X_array')\n",
    "    print(X_array)\n",
    "    print('layer_h')\n",
    "    print(layer_h)\n",
    "    print('layer_y')\n",
    "    print(layer_y)"
   ]
  },
  {
   "cell_type": "code",
   "execution_count": 10,
   "metadata": {},
   "outputs": [
    {
     "name": "stdout",
     "output_type": "stream",
     "text": [
      "X_array\n",
      "[[-2.44660037  0.22185352  0.1437954  -0.40280112]]\n",
      "layer_h\n",
      "[[0.        2.0377688 1.4804776]]\n",
      "W1\n",
      "[[ 0.8868635  -0.8916126  -0.22029682]\n",
      " [ 0.13110994 -0.0117647   0.40646693]\n",
      " [-0.7209272  -1.1555611  -0.31829947]\n",
      " [ 0.6216668   0.26090842 -2.2198198 ]]\n",
      "b1\n",
      "[[-0.3825636   0.13021767  0.00294731]]\n",
      "layer_y\n",
      "[[6.22187   1.2780911]]\n",
      "W2\n",
      "[[-0.43963498  0.01068696]\n",
      " [ 1.277318    0.11158368]\n",
      " [ 2.0543072   0.6672206 ]]\n",
      "b2\n",
      "[[0.5776351  0.06290425]]\n"
     ]
    }
   ],
   "source": [
    "def layer_debug(output_dim, input_dim, inputs, activation = None):\n",
    "    W = tf.Variable(tf.random_normal([input_dim, output_dim]))\n",
    "    b = tf.Variable(tf.random_normal([1, output_dim]))    \n",
    "    XWb = tf.matmul(inputs, W) + b\n",
    "    if activation is None:\n",
    "        outputs = XWb\n",
    "    else:\n",
    "        outputs = activation(XWb)\n",
    "    return outputs, W, b\n",
    "\n",
    "X = tf.placeholder('float', [None, 4])\n",
    "h, W1, b1 = layer_debug(output_dim = 3, input_dim = 4, inputs = X, activation = tf.nn.relu)\n",
    "y, W2, b2 = layer_debug(output_dim = 2, input_dim = 3, inputs = h)\n",
    "with tf.Session() as sess:\n",
    "    init = tf.global_variables_initializer()\n",
    "    sess.run(init)\n",
    "    X_array = np.random.randn(1, 4)\n",
    "    (layer_X, layer_h, layer_y, W1, b1, W2, b2) = sess.run((X, h, y, W1, b1, W2, b2), feed_dict = {X: X_array})\n",
    "    print('X_array')\n",
    "    print(X_array)\n",
    "    print('layer_h')\n",
    "    print(layer_h)\n",
    "    print('W1')\n",
    "    print(W1)\n",
    "    print('b1')\n",
    "    print(b1)    \n",
    "    print('layer_y')\n",
    "    print(layer_y)\n",
    "    print('W2')\n",
    "    print(W2)\n",
    "    print('b2')\n",
    "    print(b2)        "
   ]
  },
  {
   "cell_type": "markdown",
   "metadata": {},
   "source": [
    "# Normal Distribution"
   ]
  },
  {
   "cell_type": "markdown",
   "metadata": {},
   "source": [
    "### numpy"
   ]
  },
  {
   "cell_type": "code",
   "execution_count": 11,
   "metadata": {},
   "outputs": [
    {
     "data": {
      "image/png": "[encoded data removed]",
      "text/plain": [
       "<matplotlib.figure.Figure at 0x1192b5da0>"
      ]
     },
     "metadata": {},
     "output_type": "display_data"
    }
   ],
   "source": [
    "np_normal_data = np.random.randn(10000)\n",
    "plt.hist(np_normal_data)\n",
    "plt.show()"
   ]
  },
  {
   "cell_type": "markdown",
   "metadata": {},
   "source": [
    "### TensorFlow"
   ]
  },
  {
   "cell_type": "code",
   "execution_count": 12,
   "metadata": {},
   "outputs": [
    {
     "data": {
      "image/png": "[encoded data removed]",
      "text/plain": [
       "<matplotlib.figure.Figure at 0x1192595c0>"
      ]
     },
     "metadata": {},
     "output_type": "display_data"
    }
   ],
   "source": [
    "tf_normal = tf.random_normal([10000])\n",
    "with tf.Session() as session:\n",
    "    tf_normal_data = tf_normal.eval()\n",
    "plt.hist(tf_normal_data)\n",
    "plt.show()"
   ]
  },
  {
   "cell_type": "code",
   "execution_count": null,
   "metadata": {},
   "outputs": [],
   "source": []
  }
 ],
 "metadata": {
  "kernelspec": {
   "display_name": "Python 3",
   "language": "python",
   "name": "python3"
  },
  "language_info": {
   "codemirror_mode": {
    "name": "ipython",
    "version": 3
   },
   "file_extension": ".py",
   "mimetype": "text/x-python",
   "name": "python",
   "nbconvert_exporter": "python",
   "pygments_lexer": "ipython3",
   "version": "3.5.4"
  }
 },
 "nbformat": 4,
 "nbformat_minor": 2
}
