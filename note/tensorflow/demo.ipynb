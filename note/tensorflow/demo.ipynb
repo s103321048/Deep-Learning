{
 "cells": [
  {
   "cell_type": "code",
   "execution_count": 1,
   "metadata": {},
   "outputs": [],
   "source": [
    "%matplotlib inline\n",
    "import matplotlib.pyplot as plt\n",
    "import numpy as np\n",
    "import tensorflow as tf"
   ]
  },
  {
   "cell_type": "markdown",
   "metadata": {},
   "source": [
    "# Session"
   ]
  },
  {
   "cell_type": "markdown",
   "metadata": {},
   "source": [
    "### Global Variable"
   ]
  },
  {
   "cell_type": "code",
   "execution_count": 2,
   "metadata": {},
   "outputs": [
    {
     "name": "stdout",
     "output_type": "stream",
     "text": [
      "Tensor(\"a:0\", shape=(), dtype=int32)\n",
      "<tf.Variable 'b:0' shape=() dtype=int32_ref>\n",
      "0\n",
      "1\n"
     ]
    }
   ],
   "source": [
    "a = tf.constant(0, name = 'a')\n",
    "print(a)\n",
    "b = tf.Variable(a + 1, name = 'b')\n",
    "print(b)\n",
    "with tf.Session() as sess:\n",
    "    init = tf.global_variables_initializer()\n",
    "    sess.run(init)\n",
    "    print(sess.run(a))\n",
    "    print(sess.run(b))"
   ]
  },
  {
   "cell_type": "code",
   "execution_count": 3,
   "metadata": {},
   "outputs": [
    {
     "name": "stdout",
     "output_type": "stream",
     "text": [
      "Tensor(\"random_normal:0\", shape=(3, 2), dtype=float32)\n",
      "[[ 1.7748526  -1.7363902 ]\n",
      " [ 0.7712964   2.491029  ]\n",
      " [ 0.94710344 -2.1358414 ]]\n"
     ]
    }
   ],
   "source": [
    "a = tf.random_normal([3, 2])\n",
    "print(a)\n",
    "with tf.Session() as sess:\n",
    "    init = tf.global_variables_initializer()\n",
    "    sess.run(init)\n",
    "    print(sess.run(a))"
   ]
  },
  {
   "cell_type": "markdown",
   "metadata": {},
   "source": [
    "### Placeholder"
   ]
  },
  {
   "cell_type": "code",
   "execution_count": 4,
   "metadata": {},
   "outputs": [
    {
     "name": "stdout",
     "output_type": "stream",
     "text": [
      "Tensor(\"Placeholder:0\", dtype=int32)\n",
      "Tensor(\"Placeholder_1:0\", dtype=int32)\n",
      "Tensor(\"Mul:0\", dtype=int32)\n",
      "48\n"
     ]
    }
   ],
   "source": [
    "width = tf.placeholder('int32')\n",
    "print(width)\n",
    "height = tf.placeholder('int32')\n",
    "print(height)\n",
    "area = tf.multiply(width, height)\n",
    "print(area)\n",
    "with tf.Session() as sess:\n",
    "    init = tf.global_variables_initializer()\n",
    "    sess.run(init)\n",
    "    print(sess.run(area, feed_dict = {width: 6, height: 8}))"
   ]
  },
  {
   "cell_type": "markdown",
   "metadata": {},
   "source": [
    "# TensorBoard"
   ]
  },
  {
   "cell_type": "code",
   "execution_count": 5,
   "metadata": {},
   "outputs": [],
   "source": [
    "width = tf.placeholder('int32', name = 'width')\n",
    "height = tf.placeholder('int32', name = 'height')\n",
    "area = tf.multiply(width, height)\n",
    "with tf.Session() as sess:\n",
    "    init = tf.global_variables_initializer()\n",
    "    sess.run(init)\n",
    "    sess.run(area, feed_dict = {width: 6, height: 8})\n",
    "    tf.summary.merge_all()\n",
    "    train_writer = tf.summary.FileWriter('log/area', sess.graph)"
   ]
  },
  {
   "cell_type": "markdown",
   "metadata": {},
   "source": [
    "tensorboard --logdir=~/Users/DannyShau/code/deep_learning/note/tensorflow/log/area\n",
    "\n",
    "http://localhost:6006/"
   ]
  },
  {
   "cell_type": "markdown",
   "metadata": {},
   "source": [
    "# Neural Network"
   ]
  },
  {
   "cell_type": "markdown",
   "metadata": {},
   "source": [
    "### Relu"
   ]
  },
  {
   "cell_type": "code",
   "execution_count": 6,
   "metadata": {},
   "outputs": [
    {
     "name": "stdout",
     "output_type": "stream",
     "text": [
      "Tensor(\"add_1:0\", shape=(1, 2), dtype=float64)\n",
      "[[-0.53334811 -1.22658581]]\n",
      "Tensor(\"Relu:0\", shape=(1, 2), dtype=float64)\n",
      "[[0. 0.]]\n"
     ]
    }
   ],
   "source": [
    "X = tf.Variable(np.random.randn(1, 3))\n",
    "W = tf.Variable(np.random.randn(3, 2))\n",
    "b = tf.Variable(np.random.randn(1, 2))\n",
    "XWb = tf.matmul(X, W) + b\n",
    "y = tf.nn.relu(XWb)\n",
    "with tf.Session() as sess:\n",
    "    init = tf.global_variables_initializer()\n",
    "    sess.run(init)\n",
    "    print(XWb)\n",
    "    print(sess.run(XWb))\n",
    "    print(y)\n",
    "    print(sess.run(y))"
   ]
  },
  {
   "cell_type": "markdown",
   "metadata": {},
   "source": [
    "### Sigmoid"
   ]
  },
  {
   "cell_type": "code",
   "execution_count": 7,
   "metadata": {},
   "outputs": [
    {
     "name": "stdout",
     "output_type": "stream",
     "text": [
      "Tensor(\"add_2:0\", shape=(1, 2), dtype=float64)\n",
      "[[-0.13309062  0.33351052]]\n",
      "Tensor(\"Sigmoid:0\", shape=(1, 2), dtype=float64)\n",
      "[[0.46677637 0.5826133 ]]\n"
     ]
    }
   ],
   "source": [
    "X = tf.Variable(np.random.randn(1, 3))\n",
    "W = tf.Variable(np.random.randn(3, 2))\n",
    "b = tf.Variable(np.random.randn(1, 2))\n",
    "XWb = tf.matmul(X, W) + b\n",
    "y = tf.nn.sigmoid(XWb)\n",
    "with tf.Session() as sess:\n",
    "    init = tf.global_variables_initializer()\n",
    "    sess.run(init)\n",
    "    print(XWb)\n",
    "    print(sess.run(XWb))\n",
    "    print(y)\n",
    "    print(sess.run(y))"
   ]
  },
  {
   "cell_type": "markdown",
   "metadata": {},
   "source": [
    "### Placeholder"
   ]
  },
  {
   "cell_type": "code",
   "execution_count": 8,
   "metadata": {},
   "outputs": [
    {
     "name": "stdout",
     "output_type": "stream",
     "text": [
      "b\n",
      "[[-0.64200103  0.38825387]\n",
      " [ 0.7008371   0.3196014 ]\n",
      " [ 0.23700236 -1.02441   ]]\n",
      "W\n",
      "[[ 0.71039873 -0.1364015 ]\n",
      " [-0.61814725 -1.9796659 ]\n",
      " [-0.995713   -0.7551894 ]]\n",
      "X\n",
      "[[-0.27892548 -0.21095058  1.0711106 ]]\n",
      "y\n",
      "[[0.         0.03501996]\n",
      " [0.         0.        ]\n",
      " [0.         0.        ]]\n"
     ]
    }
   ],
   "source": [
    "W = tf.Variable(tf.random_normal([3, 2]))\n",
    "b = tf.Variable(tf.random_normal([3, 2]))\n",
    "X = tf.placeholder('float', [None, 3])\n",
    "y = tf.nn.relu(tf.matmul(X, W) + b)\n",
    "with tf.Session() as sess:\n",
    "    init = tf.global_variables_initializer()\n",
    "    sess.run(init)\n",
    "    X_array = np.random.randn(1, 3)\n",
    "    (b, W, X, y) = sess.run((b, W, X, y), feed_dict = {X: X_array})\n",
    "    print('b')\n",
    "    print(b)\n",
    "    print('W')\n",
    "    print(W)\n",
    "    print('X')\n",
    "    print(X)\n",
    "    print('y')\n",
    "    print(y)"
   ]
  },
  {
   "cell_type": "code",
   "execution_count": 13,
   "metadata": {},
   "outputs": [
    {
     "name": "stdout",
     "output_type": "stream",
     "text": [
      "X_array\n",
      "[[ 2.40718195  0.67956491  1.4348637  -2.56378541]]\n",
      "layer_h\n",
      "[[3.8515115 5.745198  0.       ]]\n",
      "layer_y\n",
      "[[ 8.717981  -5.9410048]]\n"
     ]
    }
   ],
   "source": [
    "def layer(output_dim, input_dim, inputs, activation = None):\n",
    "    W = tf.Variable(tf.random_normal([input_dim, output_dim]))\n",
    "    b = tf.Variable(tf.random_normal([1, output_dim]))    \n",
    "    XWb = tf.matmul(inputs, W) + b\n",
    "    if activation is None:\n",
    "        outputs = XWb\n",
    "    else:\n",
    "        outputs = activation(XWb)\n",
    "    return outputs\n",
    "\n",
    "X = tf.placeholder('float', [None, 4])\n",
    "h = layer(output_dim = 3, input_dim = 4, inputs = X, activation = tf.nn.relu)\n",
    "y = layer(output_dim = 2, input_dim = 3, inputs = h)\n",
    "with tf.Session() as sess:\n",
    "    init = tf.global_variables_initializer()\n",
    "    sess.run(init)\n",
    "    X_array = np.random.randn(1, 4)\n",
    "    (layer_X, layer_h, layer_y) = sess.run((X, h, y), feed_dict = {X: X_array})\n",
    "    print('X_array')\n",
    "    print(X_array)\n",
    "    print('layer_h')\n",
    "    print(layer_h)\n",
    "    print('layer_y')\n",
    "    print(layer_y)"
   ]
  },
  {
   "cell_type": "code",
   "execution_count": 14,
   "metadata": {},
   "outputs": [
    {
     "name": "stdout",
     "output_type": "stream",
     "text": [
      "X_array\n",
      "[[-0.26534729 -1.07743693  1.25600407 -0.29061099]]\n",
      "layer_h\n",
      "[[1.2844096  0.06257927 0.        ]]\n",
      "W1\n",
      "[[ 1.891141   -0.6189127   0.1082385 ]\n",
      " [ 0.04591727  0.6832555   1.508469  ]\n",
      " [-0.7913293  -0.01021314 -1.2857357 ]\n",
      " [-0.7331679   0.78812605  0.8089355 ]]\n",
      "b1\n",
      "[[ 2.616538   0.876383  -0.3204355]]\n",
      "layer_y\n",
      "[[-0.01055008  2.0868862 ]]\n",
      "W2\n",
      "[[-0.42642143  0.38399664]\n",
      " [-0.41491768  0.34200278]\n",
      " [-0.29336724  0.9564916 ]]\n",
      "b2\n",
      "[[0.563115  1.5722749]]\n"
     ]
    }
   ],
   "source": [
    "def layer_debug(output_dim, input_dim, inputs, activation = None):\n",
    "    W = tf.Variable(tf.random_normal([input_dim, output_dim]))\n",
    "    b = tf.Variable(tf.random_normal([1, output_dim]))    \n",
    "    XWb = tf.matmul(inputs, W) + b\n",
    "    if activation is None:\n",
    "        outputs = XWb\n",
    "    else:\n",
    "        outputs = activation(XWb)\n",
    "    return outputs, W, b\n",
    "\n",
    "X = tf.placeholder('float', [None, 4])\n",
    "h, W1, b1 = layer_debug(output_dim = 3, input_dim = 4, inputs = X, activation = tf.nn.relu)\n",
    "y, W2, b2 = layer_debug(output_dim = 2, input_dim = 3, inputs = h)\n",
    "with tf.Session() as sess:\n",
    "    init = tf.global_variables_initializer()\n",
    "    sess.run(init)\n",
    "    X_array = np.random.randn(1, 4)\n",
    "    (layer_X, layer_h, layer_y, W1, b1, W2, b2) = sess.run((X, h, y, W1, b1, W2, b2), feed_dict = {X: X_array})\n",
    "    print('X_array')\n",
    "    print(X_array)\n",
    "    print('layer_h')\n",
    "    print(layer_h)\n",
    "    print('W1')\n",
    "    print(W1)\n",
    "    print('b1')\n",
    "    print(b1)    \n",
    "    print('layer_y')\n",
    "    print(layer_y)\n",
    "    print('W2')\n",
    "    print(W2)\n",
    "    print('b2')\n",
    "    print(b2)        "
   ]
  },
  {
   "cell_type": "markdown",
   "metadata": {},
   "source": [
    "# Normal Distribution"
   ]
  },
  {
   "cell_type": "markdown",
   "metadata": {},
   "source": [
    "### numpy"
   ]
  },
  {
   "cell_type": "code",
   "execution_count": 9,
   "metadata": {},
   "outputs": [
    {
     "data": {
      "image/png": "[encoded data removed]",
      "text/plain": [
       "<matplotlib.figure.Figure at 0x11f5c46a0>"
      ]
     },
     "metadata": {},
     "output_type": "display_data"
    }
   ],
   "source": [
    "np_normal_data = np.random.randn(10000)\n",
    "plt.hist(np_normal_data)\n",
    "plt.show()"
   ]
  },
  {
   "cell_type": "markdown",
   "metadata": {},
   "source": [
    "### TensorFlow"
   ]
  },
  {
   "cell_type": "code",
   "execution_count": 10,
   "metadata": {},
   "outputs": [
    {
     "data": {
      "image/png": "[encoded data removed]",
      "text/plain": [
       "<matplotlib.figure.Figure at 0x11f557dd8>"
      ]
     },
     "metadata": {},
     "output_type": "display_data"
    }
   ],
   "source": [
    "tf_normal = tf.random_normal([10000])\n",
    "with tf.Session() as session:\n",
    "    tf_normal_data = tf_normal.eval()\n",
    "plt.hist(tf_normal_data)\n",
    "plt.show()"
   ]
  },
  {
   "cell_type": "code",
   "execution_count": null,
   "metadata": {},
   "outputs": [],
   "source": []
  }
 ],
 "metadata": {
  "kernelspec": {
   "display_name": "Python 3",
   "language": "python",
   "name": "python3"
  },
  "language_info": {
   "codemirror_mode": {
    "name": "ipython",
    "version": 3
   },
   "file_extension": ".py",
   "mimetype": "text/x-python",
   "name": "python",
   "nbconvert_exporter": "python",
   "pygments_lexer": "ipython3",
   "version": "3.5.4"
  }
 },
 "nbformat": 4,
 "nbformat_minor": 2
}
