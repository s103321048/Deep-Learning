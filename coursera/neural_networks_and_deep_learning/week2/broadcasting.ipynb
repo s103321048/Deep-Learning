{
 "cells": [
  {
   "cell_type": "code",
   "execution_count": 1,
   "metadata": {
    "collapsed": true
   },
   "outputs": [],
   "source": [
    "import numpy as np"
   ]
  },
  {
   "cell_type": "code",
   "execution_count": 29,
   "metadata": {
    "collapsed": false
   },
   "outputs": [
    {
     "name": "stdout",
     "output_type": "stream",
     "text": [
      "[[ 37.17990744  44.90707855  22.52348844  17.38452005]\n",
      " [ 85.50541532  83.9642251   37.69257928  65.3447264 ]\n",
      " [ 13.737134    70.36222367  46.10569769  87.70101326]]\n"
     ]
    }
   ],
   "source": [
    "A = np.random.random(12).reshape(3,4) * 100\n",
    "print(A)"
   ]
  },
  {
   "cell_type": "code",
   "execution_count": 30,
   "metadata": {
    "collapsed": false
   },
   "outputs": [
    {
     "name": "stdout",
     "output_type": "stream",
     "text": [
      "[ 136.42245676  199.23352732  106.3217654   170.43025971]\n"
     ]
    }
   ],
   "source": [
    "cal = A.sum(axis=0)\n",
    "print(cal)"
   ]
  },
  {
   "cell_type": "code",
   "execution_count": 34,
   "metadata": {
    "collapsed": false
   },
   "outputs": [
    {
     "name": "stdout",
     "output_type": "stream",
     "text": [
      "[[ 27.25350967  22.53992044  21.18426867  10.20037174]\n",
      " [ 62.67693556  42.14362223  35.45142345  38.34103551]\n",
      " [ 10.06955477  35.31645733  43.36430788  51.45859275]]\n"
     ]
    }
   ],
   "source": [
    "percentage = 100 * (A / cal.reshape(1, 4))\n",
    "print(percentage)"
   ]
  },
  {
   "cell_type": "code",
   "execution_count": null,
   "metadata": {
    "collapsed": true
   },
   "outputs": [],
   "source": []
  }
 ],
 "metadata": {
  "kernelspec": {
   "display_name": "Python 3",
   "language": "python",
   "name": "python3"
  },
  "language_info": {
   "codemirror_mode": {
    "name": "ipython",
    "version": 3
   },
   "file_extension": ".py",
   "mimetype": "text/x-python",
   "name": "python",
   "nbconvert_exporter": "python",
   "pygments_lexer": "ipython3",
   "version": "3.6.0"
  }
 },
 "nbformat": 4,
 "nbformat_minor": 2
}
