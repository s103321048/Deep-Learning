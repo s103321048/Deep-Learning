{
 "cells": [
  {
   "cell_type": "code",
   "execution_count": 1,
   "metadata": {
    "collapsed": true
   },
   "outputs": [],
   "source": [
    "import numpy as np"
   ]
  },
  {
   "cell_type": "code",
   "execution_count": 12,
   "metadata": {
    "collapsed": false
   },
   "outputs": [
    {
     "name": "stdout",
     "output_type": "stream",
     "text": [
      "[[ 0.95307128]\n",
      " [-0.19295774]\n",
      " [ 0.67285148]\n",
      " [-0.71561692]\n",
      " [-1.35512772]]\n",
      "(5, 1)\n"
     ]
    }
   ],
   "source": [
    "a = np.random.randn(5).reshape(5, 1)\n",
    "print(a)\n",
    "print(a.shape)"
   ]
  },
  {
   "cell_type": "code",
   "execution_count": 13,
   "metadata": {
    "collapsed": false
   },
   "outputs": [
    {
     "name": "stdout",
     "output_type": "stream",
     "text": [
      "[[ 0.95307128 -0.19295774  0.67285148 -0.71561692 -1.35512772]]\n",
      "(1, 5)\n"
     ]
    }
   ],
   "source": [
    "b = a.T\n",
    "print(b)\n",
    "print(b.shape)"
   ]
  },
  {
   "cell_type": "code",
   "execution_count": 14,
   "metadata": {
    "collapsed": false
   },
   "outputs": [
    {
     "name": "stdout",
     "output_type": "stream",
     "text": [
      "[[ 0.90834487 -0.18390248  0.64127542 -0.68203393 -1.29153332]\n",
      " [-0.18390248  0.03723269 -0.1298319   0.13808382  0.26148239]\n",
      " [ 0.64127542 -0.1298319   0.45272911 -0.4815039  -0.91179969]\n",
      " [-0.68203393  0.13808382 -0.4815039   0.51210757  0.96975232]\n",
      " [-1.29153332  0.26148239 -0.91179969  0.96975232  1.83637114]]\n",
      "(5, 5)\n"
     ]
    }
   ],
   "source": [
    "c = np.dot(a, b)\n",
    "print(c)\n",
    "print(c.shape)"
   ]
  },
  {
   "cell_type": "code",
   "execution_count": null,
   "metadata": {
    "collapsed": true
   },
   "outputs": [],
   "source": []
  }
 ],
 "metadata": {
  "kernelspec": {
   "display_name": "Python 3",
   "language": "python",
   "name": "python3"
  },
  "language_info": {
   "codemirror_mode": {
    "name": "ipython",
    "version": 3
   },
   "file_extension": ".py",
   "mimetype": "text/x-python",
   "name": "python",
   "nbconvert_exporter": "python",
   "pygments_lexer": "ipython3",
   "version": "3.6.0"
  }
 },
 "nbformat": 4,
 "nbformat_minor": 2
}
